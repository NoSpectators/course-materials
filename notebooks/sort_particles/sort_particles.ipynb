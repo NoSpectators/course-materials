{
 "cells": [
  {
   "cell_type": "markdown",
   "metadata": {},
   "source": [
    "![CSI 702 logo](/img/course-logo-full.png)\n",
    "\n",
    "# Can we optimize the particle simulation using a simple sort?\n",
    "\n",
    "---\n",
    "\n",
    "![CC BY-SA 4.0 license](/img/cc-by-sa.png)\n",
    "\n",
    "This notebook is licensed under a [Creative Commons Attribution-ShareAlike 4.0 International License](http://creativecommons.org/licenses/by-sa/4.0/)."
   ]
  },
  {
   "cell_type": "markdown",
   "metadata": {},
   "source": [
    "## Load packages"
   ]
  },
  {
   "cell_type": "code",
   "execution_count": 1,
   "metadata": {},
   "outputs": [],
   "source": [
    "%matplotlib inline\n",
    "%load_ext Cython\n",
    "\n",
    "import warnings\n",
    "\n",
    "import matplotlib.pyplot as plt\n",
    "import matplotlib.patches as patches\n",
    "import numpy as np\n",
    "\n",
    "import autograder\n",
    "\n",
    "warnings.filterwarnings('ignore')"
   ]
  },
  {
   "cell_type": "markdown",
   "metadata": {},
   "source": [
    "## Prelude: Let's wrap our particles simulation C++ source code using Cython"
   ]
  },
  {
   "cell_type": "markdown",
   "metadata": {},
   "source": [
    "### Overview"
   ]
  },
  {
   "cell_type": "markdown",
   "metadata": {},
   "source": [
    "C++ is the primary language that we are using for this course, and it is worth your time to become familiar enough with the language as it is used in a lot of performance-critical code. The key phrase here is **performance-critical code**, C++ should be utilized when you encounter bottlenecks that cannot be addressed via other means. However, for any given scientific application, you will find that only a fraction of the total code base is dedicated to computations that need to be highly optimized. If this is the case, then what is the rest of the code doing? While each application is different, I wager that you'll still find that a significant portion of scientific code will be dedicated to defining a user interface (sometimes referred to as the API) and with completing tasks associated with data preprocessing and postprocessing. These are tasks that are called only a few times during a run, and, relative to the computational sections of the code, do not take long to execute. Yet, writing these sections of code in C++ can be very tedious and time-consuming."
   ]
  },
  {
   "cell_type": "markdown",
   "metadata": {},
   "source": [
    "In some ways, Python is like the polar opposite of C++. Thanks to Python's standard library and a rich ecosystem of external libraries---in scientific computing, projects such as `numpy`, `scipy`, `matplotlib`, `pandas`, `sympy`, `scikit-learn`, etc. are invaluable---it is (relatively) easy to construct simple user interfaces and data preprocessing and postprocessing pipelines. However, \"vanilla\" Python is slow when you you need to perform an expensive scientific calculation. This can be mitigated by `numpy` and `pandas` if your calculation is amenable to vectorization. However, if the loops in your calculation depend on one another, such as time-dependent simulations or computations that require the use of an iterative solver, then Python's limitations quickly become apparent."
   ]
  },
  {
   "cell_type": "markdown",
   "metadata": {},
   "source": [
    "So perhaps you're thinking at this point that it would be nice if we could construct a high-level interface and data preprocessing and postprocessing sections in Python and then write the performance critical sections in C++. I agree, it would be very nice, and even better, it **is** possible to do. And, thanks to the [Cython project](http://docs.cython.org), it isn't that hard to do."
   ]
  },
  {
   "cell_type": "markdown",
   "metadata": {},
   "source": [
    "### What is Cython?"
   ]
  },
  {
   "cell_type": "markdown",
   "metadata": {},
   "source": [
    "> [[Cython]](http://docs.cython.org/en/latest/src/quickstart/overview.html#cython) is a programming language that makes writing C extensions for the Python language as easy as Python itself. It aims to become a superset of the [Python](http://docs.cython.org/en/latest/src/quickstart/overview.html#python) language which gives it high-level, object-oriented, functional, and dynamic programming. Its main feature on top of these is support for optional static type declarations as part of the language. The source code gets translated into optimized C/C++ code and compiled as Python extension modules. This allows for both very fast program execution and tight integration with external C libraries, while keeping up the high programmer productivity for which the Python language is well known.\n",
    ">\n",
    "> —[From the Cython documentaion](http://docs.cython.org/en/latest/src/quickstart/overview.html#cython-an-overview)"
   ]
  },
  {
   "cell_type": "markdown",
   "metadata": {},
   "source": [
    "### Case study: particles simulation"
   ]
  },
  {
   "cell_type": "markdown",
   "metadata": {},
   "source": [
    "Cython is one of those tools that is easier to understand after you've used it a few times. So, let's step through what we need to do to replace `cli.cpp` with a Cython-based interface. We begin by putting together a Cython description file that generates an interface to the `cli_parameters_t` struct in [common.hpp](common.hpp) and the `serial()` function declared in [serial.cpp](serial.cpp). The file [particles.pxd](particles.pxd) looks as follows:"
   ]
  },
  {
   "cell_type": "markdown",
   "metadata": {},
   "source": [
    "```cython\n",
    "from libcpp.string cimport string\n",
    "\n",
    "cdef extern from \"common.hpp\":\n",
    "    cdef cppclass cli_parameters_t:\n",
    "        cli_parameters_t() except +\n",
    "        int number_particles\n",
    "        string output_filename\n",
    "        string summary_filename\n",
    "        bint disable_checks\n",
    "        string benchmark_mode\n",
    "\n",
    "\n",
    "cdef extern from \"serial.hpp\" namespace \"serial\":\n",
    "    string serial(cli_parameters_t &cli_parameters)\n",
    "```"
   ]
  },
  {
   "cell_type": "markdown",
   "metadata": {},
   "source": [
    "It looks a lot like a C/C++ header file, doesn't it? It serves a similar purpose to a header file in Cython."
   ]
  },
  {
   "cell_type": "markdown",
   "metadata": {},
   "source": [
    "Next, we will need to define a Cython class that wraps our C++ code, generates a `cli_parameters_t` struct similar to `cli.cpp`, and can be instantiated and called from within Python. Conveniently, we can do this within our Jupyter notebook provided we run `%load_ext Cython` first (which we have). The code that wraps our particle simulation code is provided below:"
   ]
  },
  {
   "cell_type": "code",
   "execution_count": 2,
   "metadata": {},
   "outputs": [],
   "source": [
    "%%cython --cplus --include=. -c=-fno-wrapv -c=-O3 --force\n",
    "\n",
    "from libcpp.string cimport string\n",
    "from particles cimport cli_parameters_t, serial\n",
    "\n",
    "\n",
    "cdef extern from \"common.cpp\":\n",
    "    pass\n",
    "\n",
    "cdef extern from \"serial.cpp\" namespace \"serial\":\n",
    "    pass\n",
    "\n",
    "\n",
    "cdef class ParticleSim:\n",
    "    cdef cli_parameters_t c_parameters\n",
    "    \n",
    "    def __cinit__(\n",
    "        self,\n",
    "        int number_particles = 1000,\n",
    "        string output_filename = b\"\",\n",
    "        string summary_filename = b\"\",\n",
    "        bint disable_checks = False,\n",
    "        string benchmark_mode = b\"naive\",\n",
    "    ):\n",
    "        self.c_parameters = cli_parameters_t()\n",
    "        self.c_parameters.number_particles = number_particles\n",
    "        self.c_parameters.output_filename = output_filename\n",
    "        self.c_parameters.summary_filename = summary_filename\n",
    "        self.c_parameters.disable_checks = disable_checks\n",
    "        self.c_parameters.benchmark_mode = benchmark_mode\n",
    "        \n",
    "    def run(self):\n",
    "        cdef string results_string\n",
    "        results_string = serial(self.c_parameters)\n",
    "        print(results_string.decode())\n",
    "        \n",
    "    @property\n",
    "    def number_particles(self):\n",
    "        return self.c_parameters.number_particles\n",
    "    \n",
    "    @number_particles.setter\n",
    "    def number_particles(self, value):\n",
    "        self.c_parameters.number_particles = value\n",
    "    \n",
    "    @property\n",
    "    def output_filename(self):\n",
    "        return self.c_parameters.output_filename\n",
    "    \n",
    "    @output_filename.setter\n",
    "    def output_filename(self, value):\n",
    "        self.c_parameters.output_filename = value\n",
    "    \n",
    "    @property\n",
    "    def summary_filename(self):\n",
    "        return self.c_parameters.summary_filename\n",
    "    \n",
    "    @summary_filename.setter\n",
    "    def summary_filename(self, value):\n",
    "        self.c_parameters.summary_filename = value\n",
    "    \n",
    "    @property\n",
    "    def disable_checks(self):\n",
    "        return self.c_parameters.disable_checks\n",
    "\n",
    "    @disable_checks.setter\n",
    "    def disable_checks(self, value):\n",
    "        self.c_parameters.disable_checks = value\n",
    "    \n",
    "    @property\n",
    "    def benchmark_mode(self):\n",
    "        return self.c_parameters.benchmark_mode\n",
    "\n",
    "    @benchmark_mode.setter\n",
    "    def benchmark_mode(self, value):\n",
    "        self.c_parameters.benchmark_mode = value"
   ]
  },
  {
   "cell_type": "markdown",
   "metadata": {},
   "source": [
    "To understand what's going on, let's break the code down into a smaller chunks. The first line,"
   ]
  },
  {
   "cell_type": "markdown",
   "metadata": {},
   "source": [
    "```cython\n",
    "%%cython --cplus --include=. -c=-fno-wrapv -c=-O3 --force\n",
    "```"
   ]
  },
  {
   "cell_type": "markdown",
   "metadata": {},
   "source": [
    "is a [*magic* command](https://ipython.readthedocs.io/en/stable/interactive/magics.html) that sets up the code cell so that it can be transpiled into C++ by Cython and subsequently compiled using the GNU compilers. `--cplus` states that we want the transpiled code to be C++ and not C code. `--include=.` lets Cython look for header files in the same directory as this notebook. The two `-c` options are compiler flags. `--force` means that Cython will regenerate and compile the code each time the block is run, regardless of whether or not anything has changed."
   ]
  },
  {
   "cell_type": "markdown",
   "metadata": {},
   "source": [
    "The next part contains our Cython-specific imports,"
   ]
  },
  {
   "cell_type": "markdown",
   "metadata": {},
   "source": [
    "```cython\n",
    "from libcpp.string cimport string\n",
    "from particles cimport cli_parameters_t, serial\n",
    "```"
   ]
  },
  {
   "cell_type": "markdown",
   "metadata": {},
   "source": [
    "Note that when we're importing Cython-specific modules, we use `cimport` instead of `import`. Any module included using `cimport` can only be used by C/C++ objects and interfaces, regular Python cannot interact with these modules. `from libcpp.string cimport string` imports an interface to `std::string`, and `from particles cimport cli_parameters_t, serial` imports the interface to the `cli_parameters_t` datatype and `serial` function we declared in `particles.pxd`."
   ]
  },
  {
   "cell_type": "markdown",
   "metadata": {},
   "source": [
    "The next part tells Cython to include and compile the C++ code in `common.cpp` and `serial.cpp` as part of our program:"
   ]
  },
  {
   "cell_type": "markdown",
   "metadata": {},
   "source": [
    "```cython\n",
    "cdef extern from \"common.cpp\":\n",
    "    pass\n",
    "\n",
    "cdef extern from \"serial.cpp\" namespace \"serial\":\n",
    "    pass\n",
    "```"
   ]
  },
  {
   "cell_type": "markdown",
   "metadata": {},
   "source": [
    "The code block starting with `cdef class` defines the class `ParticleSim` that is the interface between Python and the C++ code. These Python and C/C++ interfaces have a special initialization method called `__cinit__`, which serves a similar purpose to `__init__` in regular Python class definitions."
   ]
  },
  {
   "cell_type": "markdown",
   "metadata": {},
   "source": [
    "```cython\n",
    "cdef class ParticleSim:\n",
    "    cdef cli_parameters_t c_parameters\n",
    "    \n",
    "    def __cinit__(\n",
    "        self,\n",
    "        int number_particles = 1000,\n",
    "        string output_filename = b\"\",\n",
    "        string summary_filename = b\"\",\n",
    "        bint disable_checks = False,\n",
    "        string benchmark_mode = b\"naive\",\n",
    "    ):\n",
    "        self.c_parameters = cli_parameters_t()\n",
    "        self.c_parameters.number_particles = number_particles\n",
    "        self.c_parameters.output_filename = output_filename\n",
    "        self.c_parameters.summary_filename = summary_filename\n",
    "        self.c_parameters.disable_checks = disable_checks\n",
    "        self.c_parameters.benchmark_mode = benchmark_mode\n",
    "        \n",
    "    def run(self):\n",
    "        cdef string results_string\n",
    "        results_string = serial(self.c_parameters)\n",
    "        print(results_string.decode())\n",
    "```"
   ]
  },
  {
   "cell_type": "markdown",
   "metadata": {},
   "source": [
    "Note that we instantiate a `cli_parameters_t` struct named `c_parameters`. This name needs to match the class attribute `self.c_parameters`. The `string` datatype (remember, this is equivalent to `std::string`) only accepts byte-encoded Python strings. If you try to pass a unicode string, you will receive an error. The `run()` method is what will be used to run the particle simulation itself."
   ]
  },
  {
   "cell_type": "markdown",
   "metadata": {},
   "source": [
    "The rest of the class definition is used to expose the different members of the `cli_parameters_t` struct so that they can be accessed and changed by Python."
   ]
  },
  {
   "cell_type": "markdown",
   "metadata": {},
   "source": [
    "```cython\n",
    "    @property\n",
    "    def number_particles(self):\n",
    "        return self.c_parameters.number_particles\n",
    "    \n",
    "    @number_particles.setter\n",
    "    def number_particles(self, value):\n",
    "        self.c_parameters.number_particles = value\n",
    "    \n",
    "    @property\n",
    "    def output_filename(self):\n",
    "        return self.c_parameters.output_filename\n",
    "    \n",
    "    @output_filename.setter\n",
    "    def output_filename(self, value):\n",
    "        self.c_parameters.output_filename = value\n",
    "    \n",
    "    @property\n",
    "    def summary_filename(self):\n",
    "        return self.c_parameters.summary_filename\n",
    "    \n",
    "    @summary_filename.setter\n",
    "    def summary_filename(self, value):\n",
    "        self.c_parameters.summary_filename = value\n",
    "    \n",
    "    @property\n",
    "    def disable_checks(self):\n",
    "        return self.c_parameters.disable_checks\n",
    "\n",
    "    @disable_checks.setter\n",
    "    def disable_checks(self, value):\n",
    "        self.c_parameters.disable_checks = value\n",
    "    \n",
    "    @property\n",
    "    def benchmark_mode(self):\n",
    "        return self.c_parameters.benchmark_mode\n",
    "\n",
    "    @benchmark_mode.setter\n",
    "    def benchmark_mode(self, value):\n",
    "        self.c_parameters.benchmark_mode = value\n",
    "```"
   ]
  },
  {
   "cell_type": "markdown",
   "metadata": {},
   "source": [
    "To run the code, we instantiate the `ParticleSim` class,"
   ]
  },
  {
   "cell_type": "code",
   "execution_count": 3,
   "metadata": {},
   "outputs": [],
   "source": [
    "particles = ParticleSim()"
   ]
  },
  {
   "cell_type": "markdown",
   "metadata": {},
   "source": [
    "And then run the simulation:"
   ]
  },
  {
   "cell_type": "code",
   "execution_count": 4,
   "metadata": {},
   "outputs": [
    {
     "name": "stdout",
     "output_type": "stream",
     "text": [
      "n = 1000, simulation time = 2.11941 seconds, absmin = 0.778821, absavg = 0.957902\n",
      "\n"
     ]
    }
   ],
   "source": [
    "particles.run()"
   ]
  },
  {
   "cell_type": "markdown",
   "metadata": {},
   "source": [
    "## A simple example of optimizing the particle simulation"
   ]
  },
  {
   "cell_type": "markdown",
   "metadata": {},
   "source": [
    "**Note:** Simply taking and using the code example here as your submission for Homework 2 will result in a severe penalty to the write-up portion of your Homework 2, Part A grade!"
   ]
  },
  {
   "cell_type": "markdown",
   "metadata": {},
   "source": [
    "Now that we have a Cython wrapper for our C++ code, let's consider an implementation one might try as a first attempt when solving Homework 2, Part A. This idea comes from a simple collision detection method used in video games called the [*Axis-Aligned Bounding Box* (AABB) algorithm](https://developer.mozilla.org/en-US/docs/Games/Techniques/2D_collision_detection). The basic idea is to surround each object with a rectangle and then, for a given object, check whether any portion of its rectangle overlaps with the rectangle of another object. This idea is illustrated in the figure below."
   ]
  },
  {
   "cell_type": "markdown",
   "metadata": {},
   "source": [
    "![](/img/particles_aabb_schematic.png)"
   ]
  },
  {
   "cell_type": "markdown",
   "metadata": {},
   "source": [
    "If they do overlap, then there might be a collision and a more accurate calculation is needed. If they don't, then it is not possible for there to be a collision and no further checking is required."
   ]
  },
  {
   "cell_type": "markdown",
   "metadata": {},
   "source": [
    "We can apply this idea if we start by sorting our vector of particles (datatype `std::vector<particle_t>`) along the x-axis. With this, we will know that, for a given particle $i$, any particles adjacent to element $i$ in the vector will be close along the *x* dimension."
   ]
  },
  {
   "cell_type": "markdown",
   "metadata": {},
   "source": [
    "$$\n",
    "\\begin{gathered}\n",
    "\\text{particles} \\to\n",
    "\\left[\n",
    "\\begin{array}{c|c|c|c|c|c|c}\n",
    "\\dots & i-2 & i - 1 & i & i + 1 & i + 2 & \\dots\n",
    "\\end{array}\n",
    "\\right]\n",
    "\\end{gathered}\n",
    "$$"
   ]
  },
  {
   "cell_type": "markdown",
   "metadata": {},
   "source": [
    "Thus, there is a greater liklihood that particles $i-1$ and $i+1$ will potentially interact with particle $i$, while there is a much slimmer chance that particles $i-100$ and $i+100$ will interact. Since we know that the interaction radius for each particle is always 0.01 units, then after the sort, for a given particle $i$, we only need to check the particles in the range $\\text{particle[i].x} - 0.01 < x < \\text{particle[i].x} + 0.01$. The figure below illustrates what this looks like in practice:"
   ]
  },
  {
   "cell_type": "markdown",
   "metadata": {},
   "source": [
    "![](/img/particles_sort_schematic.png)"
   ]
  },
  {
   "cell_type": "markdown",
   "metadata": {},
   "source": [
    "In the above figure, the orange particle is particle $i$. The semi-transparent orange rectangle is the range $\\text{particle[i].x} - 0.01 < x < \\text{particle[i].x} + 0.01$. So, we need only check the blue particles that overlap with the orange rectangle, which will reduce the number of checks per particle in each time step. \n"
   ]
  },
  {
   "cell_type": "markdown",
   "metadata": {},
   "source": [
    "Implementing the sort in C++ requires us to declare the following struct,"
   ]
  },
  {
   "cell_type": "markdown",
   "metadata": {},
   "source": [
    "```cpp\n",
    "struct {\n",
    "  bool operator()(const particle_t &a, const particle_t &b) const\n",
    "  {   \n",
    "    return a.x < b.x;\n",
    "  }   \n",
    "} particles_x_sort;\n",
    "```"
   ]
  },
  {
   "cell_type": "markdown",
   "metadata": {},
   "source": [
    "This struct will be provided as an input to a sorting function. This struct behaves like a C++ class, and defines how we want to sort the `particle_t` datatype within our `particles` vector. It takes two elements, `a` and `b`, inspects the `.x` attribute of each, and checks if `a.x < b.x`. Whenever this is false, the list is updated accordingly."
   ]
  },
  {
   "cell_type": "markdown",
   "metadata": {},
   "source": [
    "To sort our `particles` vector, we use,"
   ]
  },
  {
   "cell_type": "markdown",
   "metadata": {},
   "source": [
    "```cpp\n",
    "std::sort(particles.begin(), particles.end(), particles_x_sort);\n",
    "```"
   ]
  },
  {
   "cell_type": "markdown",
   "metadata": {},
   "source": [
    "After calling this function, the `particles` vector will be sorted according to the rule we defined in the `particles_x_sort` struct."
   ]
  },
  {
   "cell_type": "markdown",
   "metadata": {},
   "source": [
    "To make use of the sorted `particles` vector, we modify the compute forces section of `serial.cpp` as follows,"
   ]
  },
  {
   "cell_type": "markdown",
   "metadata": {},
   "source": [
    "```cpp\n",
    "for (int i = 0; i < n; i++) {\n",
    "  int j_forwards = i + 1;\n",
    "  int j_backwards = i - 1;\n",
    "  double x_pos_forwards = particles[i].x + 0.01;\n",
    "  double x_pos_backwards = particles[i].x - 0.01;\n",
    "  \n",
    "  particles[i].ax = 0.0;\n",
    "  particles[i].ay = 0.0;\n",
    "  \n",
    "  if (j_forwards < n) {\n",
    "    while (j_forwards < n && x_pos_forwards > particles[j_forwards].x) {\n",
    "      apply_force(particles[i], particles[j_forwards], dmin, davg, navg);\n",
    "      j_forwards++;\n",
    "    }\n",
    "  }\n",
    "  \n",
    "  if (j_backwards >= 0) {\n",
    "    while (j_backwards >= 0 && particles[j_backwards].x > x_pos_backwards) {\n",
    "      apply_force(particles[i], particles[j_backwards], dmin, davg, navg);\n",
    "      j_backwards--;\n",
    "    }\n",
    "  }\n",
    "}\n",
    "```"
   ]
  },
  {
   "cell_type": "markdown",
   "metadata": {},
   "source": [
    "The above code starts at `particles[i]` and scans forwards and backwards in the `particles` vector. The `if` statements check if we are already at the beginning or end of the vector. If not, then the scan proceeds and checks if an adjacent vector element is within the range $\\text{particle[i].x} - 0.01 < x < \\text{particle[i].x} + 0.01$. If it is, then the `apply_force` function is called. If it is not, then we know we've reached the range boundary and the scan stops."
   ]
  },
  {
   "cell_type": "markdown",
   "metadata": {},
   "source": [
    "To test that everything is working, we instantiate two `ParticleSim` objects, one that runs in the naive $O(n^2)$ mode and one that runs in the one-dimensional sort mode we just implemented."
   ]
  },
  {
   "cell_type": "code",
   "execution_count": 5,
   "metadata": {},
   "outputs": [],
   "source": [
    "particles_sort = ParticleSim(benchmark_mode=b\"sort\")\n",
    "particles_naive = ParticleSim(benchmark_mode=b\"naive\")"
   ]
  },
  {
   "cell_type": "markdown",
   "metadata": {},
   "source": [
    "We benchmark the sorting method for simulations containing 4000, 8000, 16000, 32000, and 64000 particles."
   ]
  },
  {
   "cell_type": "code",
   "execution_count": 7,
   "metadata": {},
   "outputs": [
    {
     "name": "stdout",
     "output_type": "stream",
     "text": [
      "n = 4000, simulation time = 0.775725 seconds, absmin = 0.767873, absavg = 0.956887\n",
      "\n",
      "n = 8000, simulation time = 2.07739 seconds, absmin = 0.765593, absavg = 0.956928\n",
      "\n",
      "n = 16000, simulation time = 5.54958 seconds, absmin = 0.761189, absavg = 0.956995\n",
      "\n",
      "n = 32000, simulation time = 15.0914 seconds, absmin = 0.74494, absavg = 0.957091\n",
      "\n",
      "n = 64000, simulation time = 41.5065 seconds, absmin = 0.738748, absavg = 0.956985\n",
      "\n"
     ]
    }
   ],
   "source": [
    "particles_sort.summary_filename = b\"particles_sort_summary.txt\"\n",
    "for n in [4000, 8000, 16000, 32000, 64000]:\n",
    "    particles_sort.number_particles = n\n",
    "    particles_sort.run()"
   ]
  },
  {
   "cell_type": "markdown",
   "metadata": {},
   "source": [
    "We run the autograder against the results to see how we did,"
   ]
  },
  {
   "cell_type": "code",
   "execution_count": 9,
   "metadata": {},
   "outputs": [
    {
     "name": "stdout",
     "output_type": "stream",
     "text": [
      "\n",
      "Scaling results:\n",
      "\f",
      "                                                       Serial Scaling Plots                                                       \n",
      "                                                                                                                                  \n",
      "                Simulation time vs number of particles                      Simulation time vs number of particles (log-log)      \n",
      "     Sim. time (s)                                                   Sim. time (s)                                                \n",
      "       45 +--------------------------------------------------+         100 +--------------------------------------------------+   \n",
      "          |                                              O   |             +                                                  |   \n",
      "       40 +                                                  |             +                                             O    |   \n",
      "       35 +                                                  |             +                                                  |   \n",
      "          |                                                  |             |                                     O            |   \n",
      "       30 +                                                  |          10 +                                                  |   \n",
      "       25 +                                                  |             +                              O                   |   \n",
      "          |                                                  |             +                                                  |   \n",
      "       20 +                                                  |             +                      O                           |   \n",
      "       15 +                      O                           |           1 +                                                  |   \n",
      "          |                                                  |             +              O                                   |   \n",
      "       10 +                                                  |             +                                                  |   \n",
      "        5 +           O                                      |             +                                                  |   \n",
      "          |     O                                            |             +                                                  |   \n",
      "        0 +--O---+-------+------+------+------+-------+------+         0.1 +-------+---+--+--+-+-+++-+------+----+--+-+-+-+-+++   \n",
      "          0    10000   20000  30000  40000  50000   60000  70000          1000                     10000                    100000\n",
      "                          Number of particles                                              Number of particles                    \n",
      "                                                                                                                                  \n",
      "\n",
      "O(n^m) log-log slope: m = 1.4344\n",
      "\n",
      "Serial Grade = 96.56\n",
      "\n"
     ]
    }
   ],
   "source": [
    "autograder.autograde_hw2a(\"particles_sort_summary.txt\")"
   ]
  },
  {
   "cell_type": "markdown",
   "metadata": {},
   "source": [
    "Our sorting algorithm scales as $O(n^{1.43})$, not bad considering how simple it is!"
   ]
  },
  {
   "cell_type": "markdown",
   "metadata": {},
   "source": [
    "Next, we benchmark the naive algorithm using simulations of 500, 1000, 2000, and 4000 particles,"
   ]
  },
  {
   "cell_type": "code",
   "execution_count": 4,
   "metadata": {},
   "outputs": [
    {
     "name": "stdout",
     "output_type": "stream",
     "text": [
      "n = 500, simulation time = 0.660938 seconds, absmin = 0.798344, absavg = 0.957176\n",
      "\n",
      "n = 1000, simulation time = 2.63296 seconds, absmin = 0.781476, absavg = 0.956711\n",
      "\n",
      "n = 2000, simulation time = 10.4075 seconds, absmin = 0.779835, absavg = 0.95688\n",
      "\n",
      "n = 4000, simulation time = 41.5172 seconds, absmin = 0.769603, absavg = 0.956527\n",
      "\n"
     ]
    }
   ],
   "source": [
    "particles_naive.summary_filename = b\"particles_naive_summary.txt\"\n",
    "for n in [500, 1000, 2000, 4000]:\n",
    "    particles_naive.number_particles = n\n",
    "    particles_naive.run()"
   ]
  },
  {
   "cell_type": "markdown",
   "metadata": {},
   "source": [
    "We run the autograder on the naive results,"
   ]
  },
  {
   "cell_type": "code",
   "execution_count": 6,
   "metadata": {},
   "outputs": [
    {
     "name": "stdout",
     "output_type": "stream",
     "text": [
      "\n",
      "Scaling results:\n",
      "\f",
      "                                                       Serial Scaling Plots                                                       \n",
      "                                                                                                                                  \n",
      "                Simulation time vs number of particles                      Simulation time vs number of particles (log-log)      \n",
      "     Sim. time (s)                                                   Sim. time (s)                                                \n",
      "       45 +--------------------------------------------------+         100 +--------------------------------------------------+   \n",
      "          |                                            O     |             +                                                  |   \n",
      "       40 +                                                  |             +                                        O         |   \n",
      "       35 +                                                  |             +                                                  |   \n",
      "          |                                                  |             |                                                  |   \n",
      "       30 +                                                  |          10 +                                O                 |   \n",
      "       25 +                                                  |             +                                                  |   \n",
      "          |                                                  |             +                        O                         |   \n",
      "       20 +                                                  |             +                                                  |   \n",
      "       15 +                                                  |           1 +                                                  |   \n",
      "          |                                                  |             +                 O                                |   \n",
      "       10 +                      O                           |             +                                                  |   \n",
      "        5 +                                                  |             +                                                  |   \n",
      "          |          O                                       |             +                                                  |   \n",
      "        0 +-----O----+-----+-----+----+-----+-----+----+-----+         0.1 +-------+---+--+--+-+-+++-+------+----+--+-+-+-+-+++   \n",
      "          0    500  1000  1500  2000 2500  3000  3500 4000  4500          100                       1000                    10000 \n",
      "                          Number of particles                                              Number of particles                    \n",
      "                                                                                                                                  \n",
      "\n",
      "O(n^m) log-log slope: m = 1.9902\n",
      "\n",
      "Serial Grade = 1.76\n",
      "\n"
     ]
    }
   ],
   "source": [
    "autograder.autograde_hw2a(\"particles_naive_summary.txt\")\n"
   ]
  },
  {
   "cell_type": "markdown",
   "metadata": {},
   "source": [
    "As expected, the scaling is indeed $O(n^2)$."
   ]
  }
 ],
 "metadata": {
  "kernelspec": {
   "display_name": "Python 3",
   "language": "python",
   "name": "python3"
  },
  "language_info": {
   "codemirror_mode": {
    "name": "ipython",
    "version": 3
   },
   "file_extension": ".py",
   "mimetype": "text/x-python",
   "name": "python",
   "nbconvert_exporter": "python",
   "pygments_lexer": "ipython3",
   "version": "3.7.2"
  }
 },
 "nbformat": 4,
 "nbformat_minor": 2
}
